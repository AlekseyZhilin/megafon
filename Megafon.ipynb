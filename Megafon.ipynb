{
 "cells": [
  {
   "cell_type": "code",
   "execution_count": 1,
   "id": "e539d2c5",
   "metadata": {},
   "outputs": [],
   "source": [
    "import numpy as np\n",
    "import pandas as pd\n",
    "\n",
    "from sklearn.linear_model import LogisticRegression\n",
    "from sklearn.ensemble import GradientBoostingRegressor\n",
    "from sklearn.ensemble import GradientBoostingClassifier\n",
    "from sklearn.preprocessing import StandardScaler, OneHotEncoder\n",
    "from sklearn.impute import SimpleImputer\n",
    "from sklearn.metrics import mean_squared_error\n",
    "from sklearn.metrics import classification_report\n",
    "from sklearn.base import BaseEstimator, TransformerMixin\n",
    "from sklearn.pipeline import Pipeline\n",
    "from sklearn.pipeline import FeatureUnion, make_pipeline\n",
    "\n",
    "import matplotlib.pyplot as plt\n",
    "%matplotlib inline\n",
    "\n",
    "import dask.dataframe as dd\n",
    "from datetime import datetime, date, time\n",
    "import pickle\n",
    "import dill\n",
    "\n",
    "import warnings\n",
    "warnings.filterwarnings(\"ignore\")\n",
    "\n",
    "# Для получения версии\n",
    "import sklearn\n",
    "import matplotlib\n",
    "import dask"
   ]
  },
  {
   "cell_type": "markdown",
   "id": "5d88fa5e",
   "metadata": {},
   "source": [
    "### Версии библиотек"
   ]
  },
  {
   "cell_type": "code",
   "execution_count": 2,
   "id": "a8b1fbba",
   "metadata": {},
   "outputs": [
    {
     "name": "stdout",
     "output_type": "stream",
     "text": [
      "The numpy version is 1.20.1.\n",
      "The pandas version is 1.2.4.\n",
      "The dask version is 2021.04.0.\n",
      "The sklearn version is 0.24.1.\n",
      "The matplotlib version is 3.3.4.\n"
     ]
    }
   ],
   "source": [
    "print(f'The numpy version is {np.__version__}.')\n",
    "print(f'The pandas version is {pd.__version__}.')\n",
    "print(f'The dask version is {dask.__version__}.')\n",
    "print(f'The sklearn version is {sklearn.__version__}.')\n",
    "print(f'The matplotlib version is {matplotlib.__version__}.')"
   ]
  },
  {
   "cell_type": "code",
   "execution_count": 3,
   "id": "791018d7",
   "metadata": {},
   "outputs": [],
   "source": [
    "path_train = 'data_train.csv'\n",
    "path_test = 'data_test.csv'\n",
    "path_features = 'features.csv'\n",
    "path_pred = 'data_pred.csv'\n",
    "MODEL_FILE_PATH = 'model.pkl'"
   ]
  },
  {
   "cell_type": "markdown",
   "id": "304adc21",
   "metadata": {},
   "source": [
    "### Загрузка данных"
   ]
  },
  {
   "cell_type": "code",
   "execution_count": 4,
   "id": "3ae1f1d3",
   "metadata": {},
   "outputs": [],
   "source": [
    "df_train = pd.read_csv(path_train)\n",
    "df_test = pd.read_csv(path_test)"
   ]
  },
  {
   "cell_type": "code",
   "execution_count": 5,
   "id": "66526baf",
   "metadata": {},
   "outputs": [],
   "source": [
    "df_train['buy_time'] = df_train['buy_time'].apply(lambda x: date.fromtimestamp(x))\n",
    "df_test['buy_time'] = df_test['buy_time'].apply(lambda x: date.fromtimestamp(x))"
   ]
  },
  {
   "cell_type": "code",
   "execution_count": 6,
   "id": "abd5e076",
   "metadata": {},
   "outputs": [
    {
     "data": {
      "text/html": [
       "<div>\n",
       "<style scoped>\n",
       "    .dataframe tbody tr th:only-of-type {\n",
       "        vertical-align: middle;\n",
       "    }\n",
       "\n",
       "    .dataframe tbody tr th {\n",
       "        vertical-align: top;\n",
       "    }\n",
       "\n",
       "    .dataframe thead th {\n",
       "        text-align: right;\n",
       "    }\n",
       "</style>\n",
       "<table border=\"1\" class=\"dataframe\">\n",
       "  <thead>\n",
       "    <tr style=\"text-align: right;\">\n",
       "      <th></th>\n",
       "      <th>Unnamed: 0</th>\n",
       "      <th>id</th>\n",
       "      <th>vas_id</th>\n",
       "      <th>buy_time</th>\n",
       "      <th>target</th>\n",
       "    </tr>\n",
       "  </thead>\n",
       "  <tbody>\n",
       "    <tr>\n",
       "      <th>0</th>\n",
       "      <td>0</td>\n",
       "      <td>540968</td>\n",
       "      <td>8.0</td>\n",
       "      <td>2018-09-17</td>\n",
       "      <td>0.0</td>\n",
       "    </tr>\n",
       "    <tr>\n",
       "      <th>1</th>\n",
       "      <td>1</td>\n",
       "      <td>1454121</td>\n",
       "      <td>4.0</td>\n",
       "      <td>2018-07-16</td>\n",
       "      <td>0.0</td>\n",
       "    </tr>\n",
       "    <tr>\n",
       "      <th>2</th>\n",
       "      <td>2</td>\n",
       "      <td>2458816</td>\n",
       "      <td>1.0</td>\n",
       "      <td>2018-08-13</td>\n",
       "      <td>0.0</td>\n",
       "    </tr>\n",
       "    <tr>\n",
       "      <th>3</th>\n",
       "      <td>3</td>\n",
       "      <td>3535012</td>\n",
       "      <td>5.0</td>\n",
       "      <td>2018-09-03</td>\n",
       "      <td>0.0</td>\n",
       "    </tr>\n",
       "    <tr>\n",
       "      <th>4</th>\n",
       "      <td>4</td>\n",
       "      <td>1693214</td>\n",
       "      <td>1.0</td>\n",
       "      <td>2018-09-03</td>\n",
       "      <td>0.0</td>\n",
       "    </tr>\n",
       "  </tbody>\n",
       "</table>\n",
       "</div>"
      ],
      "text/plain": [
       "   Unnamed: 0       id  vas_id    buy_time  target\n",
       "0           0   540968     8.0  2018-09-17     0.0\n",
       "1           1  1454121     4.0  2018-07-16     0.0\n",
       "2           2  2458816     1.0  2018-08-13     0.0\n",
       "3           3  3535012     5.0  2018-09-03     0.0\n",
       "4           4  1693214     1.0  2018-09-03     0.0"
      ]
     },
     "execution_count": 6,
     "metadata": {},
     "output_type": "execute_result"
    }
   ],
   "source": [
    "df_train.head()"
   ]
  },
  {
   "cell_type": "code",
   "execution_count": 7,
   "id": "1764e2fd",
   "metadata": {},
   "outputs": [
    {
     "data": {
      "text/html": [
       "<div>\n",
       "<style scoped>\n",
       "    .dataframe tbody tr th:only-of-type {\n",
       "        vertical-align: middle;\n",
       "    }\n",
       "\n",
       "    .dataframe tbody tr th {\n",
       "        vertical-align: top;\n",
       "    }\n",
       "\n",
       "    .dataframe thead th {\n",
       "        text-align: right;\n",
       "    }\n",
       "</style>\n",
       "<table border=\"1\" class=\"dataframe\">\n",
       "  <thead>\n",
       "    <tr style=\"text-align: right;\">\n",
       "      <th></th>\n",
       "      <th>Unnamed: 0</th>\n",
       "      <th>id</th>\n",
       "      <th>buy_time</th>\n",
       "      <th>0</th>\n",
       "      <th>1</th>\n",
       "      <th>2</th>\n",
       "      <th>3</th>\n",
       "      <th>4</th>\n",
       "      <th>5</th>\n",
       "      <th>6</th>\n",
       "      <th>...</th>\n",
       "      <th>243</th>\n",
       "      <th>244</th>\n",
       "      <th>245</th>\n",
       "      <th>246</th>\n",
       "      <th>247</th>\n",
       "      <th>248</th>\n",
       "      <th>249</th>\n",
       "      <th>250</th>\n",
       "      <th>251</th>\n",
       "      <th>252</th>\n",
       "    </tr>\n",
       "  </thead>\n",
       "  <tbody>\n",
       "    <tr>\n",
       "      <th>0</th>\n",
       "      <td>0</td>\n",
       "      <td>2013026</td>\n",
       "      <td>2018-07-16</td>\n",
       "      <td>18.910029</td>\n",
       "      <td>46.980888</td>\n",
       "      <td>4.969214</td>\n",
       "      <td>-1.386798</td>\n",
       "      <td>3.791754</td>\n",
       "      <td>-14.01179</td>\n",
       "      <td>-16.08618</td>\n",
       "      <td>...</td>\n",
       "      <td>-977.373846</td>\n",
       "      <td>-613.770792</td>\n",
       "      <td>-25.996269</td>\n",
       "      <td>-37.630448</td>\n",
       "      <td>-301.747724</td>\n",
       "      <td>-25.832889</td>\n",
       "      <td>-0.694428</td>\n",
       "      <td>-12.175933</td>\n",
       "      <td>-0.45614</td>\n",
       "      <td>0.0</td>\n",
       "    </tr>\n",
       "    <tr>\n",
       "      <th>1</th>\n",
       "      <td>1</td>\n",
       "      <td>2014722</td>\n",
       "      <td>2018-10-15</td>\n",
       "      <td>36.690029</td>\n",
       "      <td>152.400888</td>\n",
       "      <td>448.069214</td>\n",
       "      <td>563.833202</td>\n",
       "      <td>463.841754</td>\n",
       "      <td>568.99821</td>\n",
       "      <td>-16.08618</td>\n",
       "      <td>...</td>\n",
       "      <td>-891.373846</td>\n",
       "      <td>-544.770792</td>\n",
       "      <td>-20.996269</td>\n",
       "      <td>48.369552</td>\n",
       "      <td>80.252276</td>\n",
       "      <td>-13.832889</td>\n",
       "      <td>-0.694428</td>\n",
       "      <td>-1.175933</td>\n",
       "      <td>-0.45614</td>\n",
       "      <td>0.0</td>\n",
       "    </tr>\n",
       "    <tr>\n",
       "      <th>2</th>\n",
       "      <td>2</td>\n",
       "      <td>2015199</td>\n",
       "      <td>2018-12-24</td>\n",
       "      <td>-67.019971</td>\n",
       "      <td>157.050888</td>\n",
       "      <td>-63.180786</td>\n",
       "      <td>178.103202</td>\n",
       "      <td>-68.598246</td>\n",
       "      <td>156.99821</td>\n",
       "      <td>3.51382</td>\n",
       "      <td>...</td>\n",
       "      <td>-977.373846</td>\n",
       "      <td>-613.770792</td>\n",
       "      <td>-12.996269</td>\n",
       "      <td>-37.630448</td>\n",
       "      <td>10829.252276</td>\n",
       "      <td>-25.832889</td>\n",
       "      <td>-0.694428</td>\n",
       "      <td>-12.175933</td>\n",
       "      <td>-0.45614</td>\n",
       "      <td>0.0</td>\n",
       "    </tr>\n",
       "    <tr>\n",
       "      <th>3</th>\n",
       "      <td>3</td>\n",
       "      <td>2021765</td>\n",
       "      <td>2018-08-13</td>\n",
       "      <td>7.010029</td>\n",
       "      <td>150.200888</td>\n",
       "      <td>-6.930786</td>\n",
       "      <td>216.213202</td>\n",
       "      <td>76.621754</td>\n",
       "      <td>351.84821</td>\n",
       "      <td>-16.08618</td>\n",
       "      <td>...</td>\n",
       "      <td>-973.373846</td>\n",
       "      <td>-613.770792</td>\n",
       "      <td>-23.996269</td>\n",
       "      <td>-37.630448</td>\n",
       "      <td>-205.747724</td>\n",
       "      <td>-24.832889</td>\n",
       "      <td>-0.694428</td>\n",
       "      <td>-11.175933</td>\n",
       "      <td>-0.45614</td>\n",
       "      <td>1.0</td>\n",
       "    </tr>\n",
       "    <tr>\n",
       "      <th>4</th>\n",
       "      <td>4</td>\n",
       "      <td>2027465</td>\n",
       "      <td>2018-08-06</td>\n",
       "      <td>-90.439971</td>\n",
       "      <td>134.220888</td>\n",
       "      <td>-104.380786</td>\n",
       "      <td>153.643202</td>\n",
       "      <td>-109.798246</td>\n",
       "      <td>132.53821</td>\n",
       "      <td>-16.08618</td>\n",
       "      <td>...</td>\n",
       "      <td>1643.626154</td>\n",
       "      <td>2007.229208</td>\n",
       "      <td>206.003731</td>\n",
       "      <td>-21.630448</td>\n",
       "      <td>6667.252276</td>\n",
       "      <td>92.167111</td>\n",
       "      <td>-0.694428</td>\n",
       "      <td>49.824067</td>\n",
       "      <td>47.54386</td>\n",
       "      <td>0.0</td>\n",
       "    </tr>\n",
       "  </tbody>\n",
       "</table>\n",
       "<p>5 rows × 256 columns</p>\n",
       "</div>"
      ],
      "text/plain": [
       "   Unnamed: 0       id    buy_time          0           1           2  \\\n",
       "0           0  2013026  2018-07-16  18.910029   46.980888    4.969214   \n",
       "1           1  2014722  2018-10-15  36.690029  152.400888  448.069214   \n",
       "2           2  2015199  2018-12-24 -67.019971  157.050888  -63.180786   \n",
       "3           3  2021765  2018-08-13   7.010029  150.200888   -6.930786   \n",
       "4           4  2027465  2018-08-06 -90.439971  134.220888 -104.380786   \n",
       "\n",
       "            3           4          5         6  ...          243          244  \\\n",
       "0   -1.386798    3.791754  -14.01179 -16.08618  ...  -977.373846  -613.770792   \n",
       "1  563.833202  463.841754  568.99821 -16.08618  ...  -891.373846  -544.770792   \n",
       "2  178.103202  -68.598246  156.99821   3.51382  ...  -977.373846  -613.770792   \n",
       "3  216.213202   76.621754  351.84821 -16.08618  ...  -973.373846  -613.770792   \n",
       "4  153.643202 -109.798246  132.53821 -16.08618  ...  1643.626154  2007.229208   \n",
       "\n",
       "          245        246           247        248       249        250  \\\n",
       "0  -25.996269 -37.630448   -301.747724 -25.832889 -0.694428 -12.175933   \n",
       "1  -20.996269  48.369552     80.252276 -13.832889 -0.694428  -1.175933   \n",
       "2  -12.996269 -37.630448  10829.252276 -25.832889 -0.694428 -12.175933   \n",
       "3  -23.996269 -37.630448   -205.747724 -24.832889 -0.694428 -11.175933   \n",
       "4  206.003731 -21.630448   6667.252276  92.167111 -0.694428  49.824067   \n",
       "\n",
       "        251  252  \n",
       "0  -0.45614  0.0  \n",
       "1  -0.45614  0.0  \n",
       "2  -0.45614  0.0  \n",
       "3  -0.45614  1.0  \n",
       "4  47.54386  0.0  \n",
       "\n",
       "[5 rows x 256 columns]"
      ]
     },
     "execution_count": 7,
     "metadata": {},
     "output_type": "execute_result"
    }
   ],
   "source": [
    "df_features = dd.read_csv('features.csv', sep='\\t')\n",
    "df_features['buy_time'] = df_features['buy_time'].apply(lambda x: date.fromtimestamp(x), meta=('buy_time', 'object'))\n",
    "df_features.head()"
   ]
  },
  {
   "cell_type": "code",
   "execution_count": 8,
   "id": "2d02c014",
   "metadata": {},
   "outputs": [],
   "source": [
    "df_merge = dd.merge(df_train, df_features, on=['id', 'buy_time'], how='inner')\n",
    "df_merge_test = dd.merge(df_test, df_features, on=['id', 'buy_time'], how='inner')"
   ]
  },
  {
   "cell_type": "code",
   "execution_count": 9,
   "id": "d74611a4",
   "metadata": {},
   "outputs": [],
   "source": [
    "#Перевод из dask в pandas\n",
    "#pandas_df = dask_df.compute()\n",
    "df_merge = df_merge.compute()\n",
    "df_merge_test = df_merge_test.compute()"
   ]
  },
  {
   "cell_type": "code",
   "execution_count": 10,
   "id": "54ee12d1",
   "metadata": {},
   "outputs": [
    {
     "data": {
      "text/html": [
       "<div>\n",
       "<style scoped>\n",
       "    .dataframe tbody tr th:only-of-type {\n",
       "        vertical-align: middle;\n",
       "    }\n",
       "\n",
       "    .dataframe tbody tr th {\n",
       "        vertical-align: top;\n",
       "    }\n",
       "\n",
       "    .dataframe thead th {\n",
       "        text-align: right;\n",
       "    }\n",
       "</style>\n",
       "<table border=\"1\" class=\"dataframe\">\n",
       "  <thead>\n",
       "    <tr style=\"text-align: right;\">\n",
       "      <th></th>\n",
       "      <th>Unnamed: 0_x</th>\n",
       "      <th>id</th>\n",
       "      <th>vas_id</th>\n",
       "      <th>target</th>\n",
       "      <th>Unnamed: 0_y</th>\n",
       "      <th>0</th>\n",
       "      <th>1</th>\n",
       "      <th>2</th>\n",
       "      <th>3</th>\n",
       "      <th>4</th>\n",
       "      <th>...</th>\n",
       "      <th>243</th>\n",
       "      <th>244</th>\n",
       "      <th>245</th>\n",
       "      <th>246</th>\n",
       "      <th>247</th>\n",
       "      <th>248</th>\n",
       "      <th>249</th>\n",
       "      <th>250</th>\n",
       "      <th>251</th>\n",
       "      <th>252</th>\n",
       "    </tr>\n",
       "  </thead>\n",
       "  <tbody>\n",
       "    <tr>\n",
       "      <th>count</th>\n",
       "      <td>38919.000000</td>\n",
       "      <td>3.891900e+04</td>\n",
       "      <td>38919.000000</td>\n",
       "      <td>38919.000000</td>\n",
       "      <td>3.891900e+04</td>\n",
       "      <td>38919.000000</td>\n",
       "      <td>38919.000000</td>\n",
       "      <td>38919.000000</td>\n",
       "      <td>38919.000000</td>\n",
       "      <td>38919.000000</td>\n",
       "      <td>...</td>\n",
       "      <td>38919.000000</td>\n",
       "      <td>38919.000000</td>\n",
       "      <td>38919.000000</td>\n",
       "      <td>38919.000000</td>\n",
       "      <td>38919.000000</td>\n",
       "      <td>38919.000000</td>\n",
       "      <td>38919.000000</td>\n",
       "      <td>38919.000000</td>\n",
       "      <td>38919.000000</td>\n",
       "      <td>38919.000000</td>\n",
       "    </tr>\n",
       "    <tr>\n",
       "      <th>mean</th>\n",
       "      <td>419486.076004</td>\n",
       "      <td>2.154005e+06</td>\n",
       "      <td>2.801562</td>\n",
       "      <td>0.067885</td>\n",
       "      <td>2.259702e+06</td>\n",
       "      <td>-0.653179</td>\n",
       "      <td>-1.564541</td>\n",
       "      <td>-1.144136</td>\n",
       "      <td>-2.513602</td>\n",
       "      <td>-1.225731</td>\n",
       "      <td>...</td>\n",
       "      <td>-18.027794</td>\n",
       "      <td>-3.666550</td>\n",
       "      <td>0.361963</td>\n",
       "      <td>-0.543627</td>\n",
       "      <td>-17.829663</td>\n",
       "      <td>-2.040782</td>\n",
       "      <td>-0.024627</td>\n",
       "      <td>-1.846917</td>\n",
       "      <td>0.003353</td>\n",
       "      <td>0.257843</td>\n",
       "    </tr>\n",
       "    <tr>\n",
       "      <th>std</th>\n",
       "      <td>240312.262815</td>\n",
       "      <td>1.262414e+06</td>\n",
       "      <td>1.978314</td>\n",
       "      <td>0.251551</td>\n",
       "      <td>1.309179e+06</td>\n",
       "      <td>194.172807</td>\n",
       "      <td>399.922474</td>\n",
       "      <td>204.543990</td>\n",
       "      <td>451.883977</td>\n",
       "      <td>229.993395</td>\n",
       "      <td>...</td>\n",
       "      <td>3167.200100</td>\n",
       "      <td>2225.590690</td>\n",
       "      <td>1081.353728</td>\n",
       "      <td>288.871988</td>\n",
       "      <td>1086.209541</td>\n",
       "      <td>145.695314</td>\n",
       "      <td>6.176294</td>\n",
       "      <td>97.109281</td>\n",
       "      <td>5.616058</td>\n",
       "      <td>0.557951</td>\n",
       "    </tr>\n",
       "    <tr>\n",
       "      <th>min</th>\n",
       "      <td>37.000000</td>\n",
       "      <td>2.000000e+00</td>\n",
       "      <td>1.000000</td>\n",
       "      <td>0.000000</td>\n",
       "      <td>1.580000e+02</td>\n",
       "      <td>-411.719971</td>\n",
       "      <td>-468.019112</td>\n",
       "      <td>-421.420786</td>\n",
       "      <td>-512.156798</td>\n",
       "      <td>-426.838246</td>\n",
       "      <td>...</td>\n",
       "      <td>-977.373846</td>\n",
       "      <td>-613.770792</td>\n",
       "      <td>-25.996269</td>\n",
       "      <td>-37.630448</td>\n",
       "      <td>-306.747724</td>\n",
       "      <td>-25.832889</td>\n",
       "      <td>-0.694428</td>\n",
       "      <td>-12.175933</td>\n",
       "      <td>-0.456140</td>\n",
       "      <td>0.000000</td>\n",
       "    </tr>\n",
       "    <tr>\n",
       "      <th>25%</th>\n",
       "      <td>212346.500000</td>\n",
       "      <td>1.064699e+06</td>\n",
       "      <td>1.000000</td>\n",
       "      <td>0.000000</td>\n",
       "      <td>1.117424e+06</td>\n",
       "      <td>-96.799971</td>\n",
       "      <td>-212.474112</td>\n",
       "      <td>-110.740786</td>\n",
       "      <td>-244.656798</td>\n",
       "      <td>-116.158246</td>\n",
       "      <td>...</td>\n",
       "      <td>-977.373846</td>\n",
       "      <td>-613.770792</td>\n",
       "      <td>-25.996269</td>\n",
       "      <td>-37.630448</td>\n",
       "      <td>-305.747724</td>\n",
       "      <td>-25.832889</td>\n",
       "      <td>-0.694428</td>\n",
       "      <td>-12.175933</td>\n",
       "      <td>-0.456140</td>\n",
       "      <td>0.000000</td>\n",
       "    </tr>\n",
       "    <tr>\n",
       "      <th>50%</th>\n",
       "      <td>419399.000000</td>\n",
       "      <td>2.132826e+06</td>\n",
       "      <td>2.000000</td>\n",
       "      <td>0.000000</td>\n",
       "      <td>2.261589e+06</td>\n",
       "      <td>-86.199971</td>\n",
       "      <td>-61.669112</td>\n",
       "      <td>-87.160786</td>\n",
       "      <td>-79.426798</td>\n",
       "      <td>-90.378246</td>\n",
       "      <td>...</td>\n",
       "      <td>-959.373846</td>\n",
       "      <td>-613.770792</td>\n",
       "      <td>-25.996269</td>\n",
       "      <td>-37.630448</td>\n",
       "      <td>-239.747724</td>\n",
       "      <td>-23.832889</td>\n",
       "      <td>-0.694428</td>\n",
       "      <td>-12.175933</td>\n",
       "      <td>-0.456140</td>\n",
       "      <td>0.000000</td>\n",
       "    </tr>\n",
       "    <tr>\n",
       "      <th>75%</th>\n",
       "      <td>625607.000000</td>\n",
       "      <td>3.249143e+06</td>\n",
       "      <td>5.000000</td>\n",
       "      <td>0.000000</td>\n",
       "      <td>3.390411e+06</td>\n",
       "      <td>9.505029</td>\n",
       "      <td>115.855888</td>\n",
       "      <td>24.694214</td>\n",
       "      <td>122.128202</td>\n",
       "      <td>24.906754</td>\n",
       "      <td>...</td>\n",
       "      <td>-497.373846</td>\n",
       "      <td>-411.770792</td>\n",
       "      <td>-24.996269</td>\n",
       "      <td>-32.630448</td>\n",
       "      <td>-80.747724</td>\n",
       "      <td>-10.832889</td>\n",
       "      <td>-0.694428</td>\n",
       "      <td>-9.175933</td>\n",
       "      <td>-0.456140</td>\n",
       "      <td>1.000000</td>\n",
       "    </tr>\n",
       "    <tr>\n",
       "      <th>max</th>\n",
       "      <td>831628.000000</td>\n",
       "      <td>4.362640e+06</td>\n",
       "      <td>9.000000</td>\n",
       "      <td>1.000000</td>\n",
       "      <td>4.512309e+06</td>\n",
       "      <td>9235.090029</td>\n",
       "      <td>20564.850888</td>\n",
       "      <td>9221.149214</td>\n",
       "      <td>20641.873202</td>\n",
       "      <td>10900.661754</td>\n",
       "      <td>...</td>\n",
       "      <td>141554.626154</td>\n",
       "      <td>72800.229208</td>\n",
       "      <td>150072.003731</td>\n",
       "      <td>21326.369552</td>\n",
       "      <td>40816.252276</td>\n",
       "      <td>9120.167111</td>\n",
       "      <td>582.305572</td>\n",
       "      <td>9131.824067</td>\n",
       "      <td>508.543860</td>\n",
       "      <td>68.000000</td>\n",
       "    </tr>\n",
       "  </tbody>\n",
       "</table>\n",
       "<p>8 rows × 258 columns</p>\n",
       "</div>"
      ],
      "text/plain": [
       "        Unnamed: 0_x            id        vas_id        target  Unnamed: 0_y  \\\n",
       "count   38919.000000  3.891900e+04  38919.000000  38919.000000  3.891900e+04   \n",
       "mean   419486.076004  2.154005e+06      2.801562      0.067885  2.259702e+06   \n",
       "std    240312.262815  1.262414e+06      1.978314      0.251551  1.309179e+06   \n",
       "min        37.000000  2.000000e+00      1.000000      0.000000  1.580000e+02   \n",
       "25%    212346.500000  1.064699e+06      1.000000      0.000000  1.117424e+06   \n",
       "50%    419399.000000  2.132826e+06      2.000000      0.000000  2.261589e+06   \n",
       "75%    625607.000000  3.249143e+06      5.000000      0.000000  3.390411e+06   \n",
       "max    831628.000000  4.362640e+06      9.000000      1.000000  4.512309e+06   \n",
       "\n",
       "                  0             1             2             3             4  \\\n",
       "count  38919.000000  38919.000000  38919.000000  38919.000000  38919.000000   \n",
       "mean      -0.653179     -1.564541     -1.144136     -2.513602     -1.225731   \n",
       "std      194.172807    399.922474    204.543990    451.883977    229.993395   \n",
       "min     -411.719971   -468.019112   -421.420786   -512.156798   -426.838246   \n",
       "25%      -96.799971   -212.474112   -110.740786   -244.656798   -116.158246   \n",
       "50%      -86.199971    -61.669112    -87.160786    -79.426798    -90.378246   \n",
       "75%        9.505029    115.855888     24.694214    122.128202     24.906754   \n",
       "max     9235.090029  20564.850888   9221.149214  20641.873202  10900.661754   \n",
       "\n",
       "       ...            243           244            245           246  \\\n",
       "count  ...   38919.000000  38919.000000   38919.000000  38919.000000   \n",
       "mean   ...     -18.027794     -3.666550       0.361963     -0.543627   \n",
       "std    ...    3167.200100   2225.590690    1081.353728    288.871988   \n",
       "min    ...    -977.373846   -613.770792     -25.996269    -37.630448   \n",
       "25%    ...    -977.373846   -613.770792     -25.996269    -37.630448   \n",
       "50%    ...    -959.373846   -613.770792     -25.996269    -37.630448   \n",
       "75%    ...    -497.373846   -411.770792     -24.996269    -32.630448   \n",
       "max    ...  141554.626154  72800.229208  150072.003731  21326.369552   \n",
       "\n",
       "                247           248           249           250           251  \\\n",
       "count  38919.000000  38919.000000  38919.000000  38919.000000  38919.000000   \n",
       "mean     -17.829663     -2.040782     -0.024627     -1.846917      0.003353   \n",
       "std     1086.209541    145.695314      6.176294     97.109281      5.616058   \n",
       "min     -306.747724    -25.832889     -0.694428    -12.175933     -0.456140   \n",
       "25%     -305.747724    -25.832889     -0.694428    -12.175933     -0.456140   \n",
       "50%     -239.747724    -23.832889     -0.694428    -12.175933     -0.456140   \n",
       "75%      -80.747724    -10.832889     -0.694428     -9.175933     -0.456140   \n",
       "max    40816.252276   9120.167111    582.305572   9131.824067    508.543860   \n",
       "\n",
       "                252  \n",
       "count  38919.000000  \n",
       "mean       0.257843  \n",
       "std        0.557951  \n",
       "min        0.000000  \n",
       "25%        0.000000  \n",
       "50%        0.000000  \n",
       "75%        1.000000  \n",
       "max       68.000000  \n",
       "\n",
       "[8 rows x 258 columns]"
      ]
     },
     "execution_count": 10,
     "metadata": {},
     "output_type": "execute_result"
    }
   ],
   "source": [
    "df_merge.describe()"
   ]
  },
  {
   "cell_type": "markdown",
   "id": "a8a38138",
   "metadata": {},
   "source": [
    "### Получаем тренировочный набор данных"
   ]
  },
  {
   "cell_type": "code",
   "execution_count": 11,
   "id": "aa8e4b1f",
   "metadata": {},
   "outputs": [],
   "source": [
    "df_merge['target'] = df_merge['target'].astype(int)"
   ]
  },
  {
   "cell_type": "code",
   "execution_count": 12,
   "id": "40a20496",
   "metadata": {},
   "outputs": [],
   "source": [
    "X_train = df_merge.drop('target', axis=1)\n",
    "X_test = df_merge_test"
   ]
  },
  {
   "cell_type": "code",
   "execution_count": 13,
   "id": "ba24615b",
   "metadata": {},
   "outputs": [],
   "source": [
    "Y_train = df_merge['target']"
   ]
  },
  {
   "cell_type": "code",
   "execution_count": 14,
   "id": "c1276377",
   "metadata": {},
   "outputs": [
    {
     "name": "stdout",
     "output_type": "stream",
     "text": [
      "target = 0 - 771467, target = 1 - 60186\n"
     ]
    }
   ],
   "source": [
    "y_list = []\n",
    "y_list.append(df_train[df_train['target']==0].shape[0])\n",
    "y_list.append(df_train[df_train['target']==1].shape[0])\n",
    "print(f'target = 0 - {y_list[0]}, target = 1 - {y_list[1]}')"
   ]
  },
  {
   "cell_type": "code",
   "execution_count": 15,
   "id": "e928bc24",
   "metadata": {},
   "outputs": [
    {
     "data": {
      "image/png": "[encoded data removed]",
      "text/plain": [
       "<Figure size 432x288 with 1 Axes>"
      ]
     },
     "metadata": {},
     "output_type": "display_data"
    }
   ],
   "source": [
    "plt.style.use('ggplot')\n",
    "fig, ax = plt.subplots()\n",
    "ax.bar(np.arange(2), y_list)\n",
    "ax.set(xticks=np.arange(2))\n",
    "ax.set_title('Распределение целевой переменной target')\n",
    "plt.show()"
   ]
  },
  {
   "cell_type": "markdown",
   "id": "d91246b7",
   "metadata": {},
   "source": [
    "### Балансировка классов"
   ]
  },
  {
   "cell_type": "code",
   "execution_count": 16,
   "id": "569a58e5",
   "metadata": {},
   "outputs": [],
   "source": [
    "### Так как между двумя классами существует существенный дисбаланс, \n",
    "### необходимо уравнять количество значений целевой переменной (0, 1), для более качественного обучения моделей"
   ]
  },
  {
   "cell_type": "code",
   "execution_count": 17,
   "id": "bbd7b1da",
   "metadata": {},
   "outputs": [],
   "source": [
    "def balance_df_by_target(df, target_name, method='over'):\n",
    "\n",
    "    assert method in ['over', 'under'], 'Неверный метод сэмплирования'\n",
    "    \n",
    "    target_counts = df[target_name].value_counts()\n",
    "\n",
    "    major_class_name = target_counts.argmax()\n",
    "    minor_class_name = target_counts.argmin()\n",
    "\n",
    "    disbalance_coeff = int(target_counts[major_class_name] / target_counts[minor_class_name]) - 1\n",
    "    if method == 'over':\n",
    "        for i in range(disbalance_coeff):\n",
    "            sample = df[df[target_name] == minor_class_name].sample(target_counts[minor_class_name])\n",
    "            df = df.append(sample, ignore_index=True)\n",
    "            \n",
    "    elif method == 'under':\n",
    "        df_ = df.copy()\n",
    "        df = df_[df_[target_name] == minor_class_name]\n",
    "        tmp = df_[df_[target_name] == major_class_name]\n",
    "        df = df.append(tmp.iloc[\n",
    "            np.random.randint(0, tmp.shape[0], target_counts[minor_class_name])\n",
    "        ], ignore_index=True)\n",
    "\n",
    "    return df.sample(frac=1) "
   ]
  },
  {
   "cell_type": "code",
   "execution_count": 18,
   "id": "1f3992fd",
   "metadata": {},
   "outputs": [
    {
     "data": {
      "text/plain": [
       "0    2642\n",
       "1    2642\n",
       "Name: target, dtype: int64"
      ]
     },
     "execution_count": 18,
     "metadata": {},
     "output_type": "execute_result"
    }
   ],
   "source": [
    "df_for_balancing = pd.concat([X_train, Y_train], axis=1)\n",
    "df_balanced = balance_df_by_target(df_for_balancing, 'target', method='under') \n",
    "df_balanced['target'].value_counts()"
   ]
  },
  {
   "cell_type": "code",
   "execution_count": 19,
   "id": "22082178",
   "metadata": {},
   "outputs": [],
   "source": [
    "X_train = df_balanced.drop('target', axis=1)\n",
    "Y_train = df_balanced['target']"
   ]
  },
  {
   "cell_type": "markdown",
   "id": "5e9b6d79",
   "metadata": {},
   "source": [
    "### Определение типа признаков"
   ]
  },
  {
   "cell_type": "code",
   "execution_count": 20,
   "id": "80d6bb0b",
   "metadata": {},
   "outputs": [],
   "source": [
    "# Составление списка колонок датафрейма\n",
    "columns = [col for col in X_train.columns]"
   ]
  },
  {
   "cell_type": "code",
   "execution_count": 21,
   "id": "117c554d",
   "metadata": {},
   "outputs": [],
   "source": [
    "# Выбор признаков для обработки в pipline \n",
    "for x in ['Unnamed: 0_x', 'Unnamed: 0_y']:\n",
    "    columns.remove(x)"
   ]
  },
  {
   "cell_type": "code",
   "execution_count": 22,
   "id": "d36fbca6",
   "metadata": {},
   "outputs": [
    {
     "data": {
      "text/plain": [
       "['id',\n",
       " 'vas_id',\n",
       " 'buy_time',\n",
       " '0',\n",
       " '1',\n",
       " '2',\n",
       " '3',\n",
       " '4',\n",
       " '5',\n",
       " '6',\n",
       " '7',\n",
       " '8',\n",
       " '9',\n",
       " '10',\n",
       " '11',\n",
       " '12',\n",
       " '13',\n",
       " '14',\n",
       " '15',\n",
       " '16',\n",
       " '17',\n",
       " '18',\n",
       " '19',\n",
       " '20',\n",
       " '21',\n",
       " '22',\n",
       " '23',\n",
       " '24',\n",
       " '25',\n",
       " '26',\n",
       " '27',\n",
       " '28',\n",
       " '29',\n",
       " '30',\n",
       " '31',\n",
       " '32',\n",
       " '33',\n",
       " '34',\n",
       " '35',\n",
       " '36',\n",
       " '37',\n",
       " '38',\n",
       " '39',\n",
       " '40',\n",
       " '41',\n",
       " '42',\n",
       " '43',\n",
       " '44',\n",
       " '45',\n",
       " '46',\n",
       " '47',\n",
       " '48',\n",
       " '49',\n",
       " '50',\n",
       " '51',\n",
       " '52',\n",
       " '53',\n",
       " '54',\n",
       " '55',\n",
       " '56',\n",
       " '57',\n",
       " '58',\n",
       " '59',\n",
       " '60',\n",
       " '61',\n",
       " '62',\n",
       " '63',\n",
       " '64',\n",
       " '65',\n",
       " '66',\n",
       " '67',\n",
       " '68',\n",
       " '69',\n",
       " '70',\n",
       " '71',\n",
       " '72',\n",
       " '73',\n",
       " '74',\n",
       " '75',\n",
       " '76',\n",
       " '77',\n",
       " '78',\n",
       " '79',\n",
       " '80',\n",
       " '81',\n",
       " '82',\n",
       " '83',\n",
       " '84',\n",
       " '85',\n",
       " '86',\n",
       " '87',\n",
       " '88',\n",
       " '89',\n",
       " '90',\n",
       " '91',\n",
       " '92',\n",
       " '93',\n",
       " '94',\n",
       " '95',\n",
       " '96',\n",
       " '97',\n",
       " '98',\n",
       " '99',\n",
       " '100',\n",
       " '101',\n",
       " '102',\n",
       " '103',\n",
       " '104',\n",
       " '105',\n",
       " '106',\n",
       " '107',\n",
       " '108',\n",
       " '109',\n",
       " '110',\n",
       " '111',\n",
       " '112',\n",
       " '113',\n",
       " '114',\n",
       " '115',\n",
       " '116',\n",
       " '117',\n",
       " '118',\n",
       " '119',\n",
       " '120',\n",
       " '121',\n",
       " '122',\n",
       " '123',\n",
       " '124',\n",
       " '125',\n",
       " '126',\n",
       " '127',\n",
       " '128',\n",
       " '129',\n",
       " '130',\n",
       " '131',\n",
       " '132',\n",
       " '133',\n",
       " '134',\n",
       " '135',\n",
       " '136',\n",
       " '137',\n",
       " '138',\n",
       " '139',\n",
       " '140',\n",
       " '141',\n",
       " '142',\n",
       " '143',\n",
       " '144',\n",
       " '145',\n",
       " '146',\n",
       " '147',\n",
       " '148',\n",
       " '149',\n",
       " '150',\n",
       " '151',\n",
       " '152',\n",
       " '153',\n",
       " '154',\n",
       " '155',\n",
       " '156',\n",
       " '157',\n",
       " '158',\n",
       " '159',\n",
       " '160',\n",
       " '161',\n",
       " '162',\n",
       " '163',\n",
       " '164',\n",
       " '165',\n",
       " '166',\n",
       " '167',\n",
       " '168',\n",
       " '169',\n",
       " '170',\n",
       " '171',\n",
       " '172',\n",
       " '173',\n",
       " '174',\n",
       " '175',\n",
       " '176',\n",
       " '177',\n",
       " '178',\n",
       " '179',\n",
       " '180',\n",
       " '181',\n",
       " '182',\n",
       " '183',\n",
       " '184',\n",
       " '185',\n",
       " '186',\n",
       " '187',\n",
       " '188',\n",
       " '189',\n",
       " '190',\n",
       " '191',\n",
       " '192',\n",
       " '193',\n",
       " '194',\n",
       " '195',\n",
       " '196',\n",
       " '197',\n",
       " '198',\n",
       " '199',\n",
       " '200',\n",
       " '201',\n",
       " '202',\n",
       " '203',\n",
       " '204',\n",
       " '205',\n",
       " '206',\n",
       " '207',\n",
       " '208',\n",
       " '209',\n",
       " '210',\n",
       " '211',\n",
       " '212',\n",
       " '213',\n",
       " '214',\n",
       " '215',\n",
       " '216',\n",
       " '217',\n",
       " '218',\n",
       " '219',\n",
       " '220',\n",
       " '221',\n",
       " '222',\n",
       " '223',\n",
       " '224',\n",
       " '225',\n",
       " '226',\n",
       " '227',\n",
       " '228',\n",
       " '229',\n",
       " '230',\n",
       " '231',\n",
       " '232',\n",
       " '233',\n",
       " '234',\n",
       " '235',\n",
       " '236',\n",
       " '237',\n",
       " '238',\n",
       " '239',\n",
       " '240',\n",
       " '241',\n",
       " '242',\n",
       " '243',\n",
       " '244',\n",
       " '245',\n",
       " '246',\n",
       " '247',\n",
       " '248',\n",
       " '249',\n",
       " '250',\n",
       " '251',\n",
       " '252']"
      ]
     },
     "execution_count": 22,
     "metadata": {},
     "output_type": "execute_result"
    }
   ],
   "source": [
    "columns"
   ]
  },
  {
   "cell_type": "code",
   "execution_count": 23,
   "id": "65a9097e",
   "metadata": {},
   "outputs": [],
   "source": [
    "# Преобразование двух признаков, для последующего занесения в категориальные\n",
    "X_train['vas_id'] = X_train['vas_id'].astype(int)\n",
    "X_test['vas_id'] = X_test['vas_id'].astype(int)"
   ]
  },
  {
   "cell_type": "code",
   "execution_count": 24,
   "id": "ae39bcce",
   "metadata": {},
   "outputs": [],
   "source": [
    "X_train['buy_time'] = X_train['buy_time'].apply(lambda x: x.year)\n",
    "X_test['buy_time'] = X_test['buy_time'].apply(lambda x: x.year)"
   ]
  },
  {
   "cell_type": "code",
   "execution_count": 25,
   "id": "f42f1c3a",
   "metadata": {},
   "outputs": [],
   "source": [
    "X_train = X_train[columns]\n",
    "X_test = X_test[columns]"
   ]
  },
  {
   "cell_type": "code",
   "execution_count": 26,
   "id": "60f9bb40",
   "metadata": {},
   "outputs": [],
   "source": [
    "def find_feature(X_train):\n",
    "    #### Просмотр и оценка признаков\n",
    "    X_nunique = X_train.apply(lambda x: x.nunique(dropna=False))\n",
    "    f_all = set(X_nunique.index.tolist())\n",
    "\n",
    "\n",
    "    # константные признаки\n",
    "    f_const = set(X_nunique[X_nunique == 1].index.tolist())\n",
    "\n",
    "    # вещественные признаки\n",
    "    f_numeric = (X_train.fillna(0).astype(int).sum() - X_train.fillna(0).sum()).abs()\n",
    "    f_numeric = set(f_numeric[f_numeric > 0].index.tolist())\n",
    "\n",
    "    f_other = f_all - (f_numeric | f_const)\n",
    "\n",
    "    # бинарные\n",
    "    f_binary = set(X_train.loc[:, f_other].columns[(\n",
    "                          (X_train.loc[:, f_other].max() == 1) & \\\n",
    "                          (X_train.loc[:, f_other].min() == 0) & \\\n",
    "                          (X_train.loc[:, f_other].isnull().sum() == 0))])\n",
    "\n",
    "    f_other = f_other - f_binary\n",
    "\n",
    "    #### категориальные\n",
    "    f_categorical = set(X_nunique.loc[f_other][X_nunique.loc[f_other] <= 10].index.tolist())\n",
    "\n",
    "    f_numeric_extra = f_categorical\n",
    "    f_other = f_other - f_categorical\n",
    "    f_numeric = f_numeric | f_other\n",
    "    f_other = f_other - f_numeric\n",
    "\n",
    "    print(f'Все признаки {len(f_all)}')\n",
    "    print(f'Константные признаки {len(f_const)}')\n",
    "    print(f'Вещественные признаки {len(f_numeric)}')\n",
    "    print(f'Бинарные признаки {len(f_binary)}')\n",
    "    print(f'Категориальные признаки {len(f_categorical)}')\n",
    "    print(f'Остальные признаки {len(f_other)}')\n",
    "    f_ok = list(f_binary | f_categorical | f_numeric)\n",
    "    f_const, f_binary, f_categorical, f_numeric = list(f_const), list(f_binary), list(f_categorical), list(f_numeric)\n",
    "    \n",
    "    return f_ok, f_const, f_binary, f_categorical, f_numeric"
   ]
  },
  {
   "cell_type": "markdown",
   "id": "72fecbe8",
   "metadata": {},
   "source": [
    "### Создание пайплайна"
   ]
  },
  {
   "cell_type": "code",
   "execution_count": 27,
   "id": "b6d93f72",
   "metadata": {},
   "outputs": [],
   "source": [
    "class ColumnSelector(BaseEstimator, TransformerMixin):\n",
    "    def __init__(self, columns):\n",
    "        self.columns = columns\n",
    "\n",
    "    def fit(self, X, y=None):\n",
    "        return self\n",
    "    \n",
    "    def transform(self, X):\n",
    "        assert isinstance(X, pd.DataFrame)\n",
    "\n",
    "        try:\n",
    "            return X[self.columns]\n",
    "        except KeyError:\n",
    "            cols_error = list(set(self.columns) - set(X.columns))\n",
    "            raise KeyError(\"DataFrame не содердит следующие колонки: %s\" % cols_error)"
   ]
  },
  {
   "cell_type": "code",
   "execution_count": 28,
   "id": "c52916ab",
   "metadata": {},
   "outputs": [
    {
     "name": "stdout",
     "output_type": "stream",
     "text": [
      "Все признаки 256\n",
      "Константные признаки 20\n",
      "Вещественные признаки 248\n",
      "Бинарные признаки 1\n",
      "Категориальные признаки 1\n",
      "Остальные признаки 0\n"
     ]
    }
   ],
   "source": [
    "f_ok, f_const, f_binary, f_categorical, f_numeric = find_feature(X_train)"
   ]
  },
  {
   "cell_type": "code",
   "execution_count": 29,
   "id": "39d77697",
   "metadata": {},
   "outputs": [],
   "source": [
    "f_prep_pipeline = make_pipeline(\n",
    "    ColumnSelector(columns=f_ok),\n",
    "    FeatureUnion(transformer_list=[\n",
    "        (\"numeric_features\", make_pipeline(\n",
    "            ColumnSelector(f_numeric),\n",
    "            SimpleImputer(strategy=\"mean\"),\n",
    "            StandardScaler()\n",
    "        )),\n",
    "        (\"categorical_features\", make_pipeline(\n",
    "            ColumnSelector(f_categorical),\n",
    "            SimpleImputer(strategy=\"most_frequent\"),\n",
    "            OneHotEncoder(handle_unknown='ignore')\n",
    "        )),\n",
    "        (\"boolean_features\", make_pipeline(\n",
    "            ColumnSelector(f_binary),\n",
    "        ))\n",
    "    ])\n",
    ")"
   ]
  },
  {
   "cell_type": "code",
   "execution_count": 30,
   "id": "98968ef6",
   "metadata": {},
   "outputs": [
    {
     "data": {
      "text/plain": [
       "[('columnselector',\n",
       "  ColumnSelector(columns=['id', '206', '190', '51', '91', '237', '179', '232',\n",
       "                          '185', '189', '77', '122', '78', '180', '71', '13',\n",
       "                          '251', '43', '64', '84', '101', '97', '70', '182',\n",
       "                          '162', '110', '177', '114', '199', '207', ...])),\n",
       " ('featureunion',\n",
       "  FeatureUnion(transformer_list=[('numeric_features',\n",
       "                                  Pipeline(steps=[('columnselector',\n",
       "                                                   ColumnSelector(columns=['id',\n",
       "                                                                           '206',\n",
       "                                                                           '190',\n",
       "                                                                           '51',\n",
       "                                                                           '91',\n",
       "                                                                           '237',\n",
       "                                                                           '179',\n",
       "                                                                           '232',\n",
       "                                                                           '185',\n",
       "                                                                           '189',\n",
       "                                                                           '221',\n",
       "                                                                           '77',\n",
       "                                                                           '122',\n",
       "                                                                           '78',\n",
       "                                                                           '180',\n",
       "                                                                           '71',\n",
       "                                                                           '13',\n",
       "                                                                           '251',\n",
       "                                                                           '43',\n",
       "                                                                           '64',\n",
       "                                                                           '84',\n",
       "                                                                           '101',\n",
       "                                                                           '97',\n",
       "                                                                           '70',\n",
       "                                                                           '182',\n",
       "                                                                           '162',\n",
       "                                                                           '110',\n",
       "                                                                           '177',\n",
       "                                                                           '114',\n",
       "                                                                           '199', ...])),\n",
       "                                                  ('simpleimputer',\n",
       "                                                   SimpleImputer()),\n",
       "                                                  ('standardscaler',\n",
       "                                                   StandardScaler())])),\n",
       "                                 ('categorical_features',\n",
       "                                  Pipeline(steps=[('columnselector',\n",
       "                                                   ColumnSelector(columns=['vas_id'])),\n",
       "                                                  ('simpleimputer',\n",
       "                                                   SimpleImputer(strategy='most_frequent')),\n",
       "                                                  ('onehotencoder',\n",
       "                                                   OneHotEncoder(handle_unknown='ignore'))])),\n",
       "                                 ('boolean_features',\n",
       "                                  Pipeline(steps=[('columnselector',\n",
       "                                                   ColumnSelector(columns=['252']))]))]))]"
      ]
     },
     "execution_count": 30,
     "metadata": {},
     "output_type": "execute_result"
    }
   ],
   "source": [
    "f_prep_pipeline.steps"
   ]
  },
  {
   "cell_type": "code",
   "execution_count": 31,
   "id": "bac33c8e",
   "metadata": {},
   "outputs": [
    {
     "name": "stdout",
     "output_type": "stream",
     "text": [
      "Количество обработанных признаков с помощью fit, transfofm - 257\n"
     ]
    }
   ],
   "source": [
    "f_prep_pipeline.fit(X_train)\n",
    "n_features = f_prep_pipeline.transform(X_train).shape[1]\n",
    "print(f'Количество обработанных признаков с помощью fit, transfofm - {n_features}')"
   ]
  },
  {
   "cell_type": "code",
   "execution_count": 32,
   "id": "6b1f2b07",
   "metadata": {},
   "outputs": [
    {
     "data": {
      "text/plain": [
       "Pipeline(steps=[('columnselector',\n",
       "                 ColumnSelector(columns=['id', '206', '190', '51', '91', '237',\n",
       "                                         '179', '232', '185', '189', '77',\n",
       "                                         '122', '78', '180', '71', '13', '251',\n",
       "                                         '43', '64', '84', '101', '97', '70',\n",
       "                                         '182', '162', '110', '177', '114',\n",
       "                                         '199', '207', ...])),\n",
       "                ('featureunion',\n",
       "                 FeatureUnion(transformer_list=[('numeric_features',\n",
       "                                                 Pipeline(steps=[('columnselector',\n",
       "                                                                  ColumnSelector(c...\n",
       "                                                                  SimpleImputer()),\n",
       "                                                                 ('standardscaler',\n",
       "                                                                  StandardScaler())])),\n",
       "                                                ('categorical_features',\n",
       "                                                 Pipeline(steps=[('columnselector',\n",
       "                                                                  ColumnSelector(columns=['vas_id'])),\n",
       "                                                                 ('simpleimputer',\n",
       "                                                                  SimpleImputer(strategy='most_frequent')),\n",
       "                                                                 ('onehotencoder',\n",
       "                                                                  OneHotEncoder(handle_unknown='ignore'))])),\n",
       "                                                ('boolean_features',\n",
       "                                                 Pipeline(steps=[('columnselector',\n",
       "                                                                  ColumnSelector(columns=['252']))]))]))])"
      ]
     },
     "execution_count": 32,
     "metadata": {},
     "output_type": "execute_result"
    }
   ],
   "source": [
    "f_prep_pipeline"
   ]
  },
  {
   "cell_type": "markdown",
   "id": "701c7b37",
   "metadata": {},
   "source": [
    "### Gridsearch для пайплайнов"
   ]
  },
  {
   "cell_type": "code",
   "execution_count": 33,
   "id": "b57e091f",
   "metadata": {},
   "outputs": [],
   "source": [
    "RANDOM_STATE = 1"
   ]
  },
  {
   "cell_type": "markdown",
   "id": "9fd153e6",
   "metadata": {},
   "source": [
    "#### Логистическая регрессия"
   ]
  },
  {
   "cell_type": "code",
   "execution_count": 34,
   "id": "dbd28f41",
   "metadata": {},
   "outputs": [],
   "source": [
    "lg_pipe = make_pipeline(\n",
    "    f_prep_pipeline,\n",
    "    LogisticRegression(random_state=RANDOM_STATE)\n",
    ")"
   ]
  },
  {
   "cell_type": "code",
   "execution_count": 35,
   "id": "78d5a8ae",
   "metadata": {},
   "outputs": [],
   "source": [
    "from sklearn.model_selection import GridSearchCV\n",
    "from sklearn.model_selection import KFold"
   ]
  },
  {
   "cell_type": "code",
   "execution_count": 36,
   "id": "95357ce8",
   "metadata": {},
   "outputs": [],
   "source": [
    "kfold_cv = KFold(n_splits=3, shuffle=True, random_state=RANDOM_STATE)"
   ]
  },
  {
   "cell_type": "code",
   "execution_count": 37,
   "id": "7d965fd0",
   "metadata": {},
   "outputs": [],
   "source": [
    "def run_grid_search(estimator, X, y, params_grid, cv, scoring='f1'):\n",
    "    gsc = GridSearchCV(estimator, params_grid, scoring=scoring, cv=cv, n_jobs=-1)\n",
    "\n",
    "    gsc.fit(X, y)\n",
    "    print(\"Best %s score: %.2f\" % (scoring, gsc.best_score_))\n",
    "    print()\n",
    "    print(\"Best parameters set found on development set:\")\n",
    "    print()\n",
    "    print(gsc.best_params_)\n",
    "    print()\n",
    "    print(\"Grid scores on development set:\")\n",
    "    print()\n",
    "\n",
    "    for i, params in enumerate(gsc.cv_results_['params']):\n",
    "        print(\"%0.3f (+/-%0.03f) for %r\"\n",
    "              % (gsc.cv_results_['mean_test_score'][i], gsc.cv_results_['std_test_score'][i] * 2, params))\n",
    "\n",
    "    print()\n",
    "    \n",
    "    return gsc"
   ]
  },
  {
   "cell_type": "code",
   "execution_count": 38,
   "id": "25a853ce",
   "metadata": {},
   "outputs": [
    {
     "data": {
      "text/plain": [
       "['pipeline__featureunion__numeric_features__simpleimputer',\n",
       " 'pipeline__featureunion__numeric_features__simpleimputer__add_indicator',\n",
       " 'pipeline__featureunion__numeric_features__simpleimputer__copy',\n",
       " 'pipeline__featureunion__numeric_features__simpleimputer__fill_value',\n",
       " 'pipeline__featureunion__numeric_features__simpleimputer__missing_values',\n",
       " 'pipeline__featureunion__numeric_features__simpleimputer__strategy',\n",
       " 'pipeline__featureunion__numeric_features__simpleimputer__verbose',\n",
       " 'pipeline__featureunion__categorical_features__simpleimputer',\n",
       " 'pipeline__featureunion__categorical_features__simpleimputer__add_indicator',\n",
       " 'pipeline__featureunion__categorical_features__simpleimputer__copy',\n",
       " 'pipeline__featureunion__categorical_features__simpleimputer__fill_value',\n",
       " 'pipeline__featureunion__categorical_features__simpleimputer__missing_values',\n",
       " 'pipeline__featureunion__categorical_features__simpleimputer__strategy',\n",
       " 'pipeline__featureunion__categorical_features__simpleimputer__verbose']"
      ]
     },
     "execution_count": 38,
     "metadata": {},
     "output_type": "execute_result"
    }
   ],
   "source": [
    "[k for k in lg_pipe.get_params().keys() if 'imputer' in k]"
   ]
  },
  {
   "cell_type": "code",
   "execution_count": 39,
   "id": "508746ca",
   "metadata": {},
   "outputs": [],
   "source": [
    "param_grid = {\n",
    "    \"pipeline__featureunion__categorical_features__simpleimputer__strategy\": ['most_frequent', 'constant'],\n",
    "    \"pipeline__featureunion__categorical_features__simpleimputer__fill_value\": [-1],\n",
    "}"
   ]
  },
  {
   "cell_type": "code",
   "execution_count": 40,
   "id": "e3dff062",
   "metadata": {},
   "outputs": [
    {
     "name": "stdout",
     "output_type": "stream",
     "text": [
      "Best f1 score: 0.86\n",
      "\n",
      "Best parameters set found on development set:\n",
      "\n",
      "{'pipeline__featureunion__categorical_features__simpleimputer__fill_value': -1, 'pipeline__featureunion__categorical_features__simpleimputer__strategy': 'most_frequent'}\n",
      "\n",
      "Grid scores on development set:\n",
      "\n",
      "0.855 (+/-0.012) for {'pipeline__featureunion__categorical_features__simpleimputer__fill_value': -1, 'pipeline__featureunion__categorical_features__simpleimputer__strategy': 'most_frequent'}\n",
      "0.855 (+/-0.012) for {'pipeline__featureunion__categorical_features__simpleimputer__fill_value': -1, 'pipeline__featureunion__categorical_features__simpleimputer__strategy': 'constant'}\n",
      "\n"
     ]
    }
   ],
   "source": [
    "lg_gsc = run_grid_search(lg_pipe, X_train, Y_train, param_grid, kfold_cv)"
   ]
  },
  {
   "cell_type": "markdown",
   "id": "0ef885d3",
   "metadata": {},
   "source": [
    "#### Градиентный бустинг"
   ]
  },
  {
   "cell_type": "code",
   "execution_count": 41,
   "id": "eece70d6",
   "metadata": {},
   "outputs": [],
   "source": [
    "gb_fs_pipe = make_pipeline(\n",
    "    f_prep_pipeline,\n",
    "    GradientBoostingClassifier()\n",
    ")"
   ]
  },
  {
   "cell_type": "code",
   "execution_count": 42,
   "id": "6ee41bd1",
   "metadata": {},
   "outputs": [
    {
     "data": {
      "text/plain": [
       "['gradientboostingclassifier',\n",
       " 'gradientboostingclassifier__ccp_alpha',\n",
       " 'gradientboostingclassifier__criterion',\n",
       " 'gradientboostingclassifier__init',\n",
       " 'gradientboostingclassifier__learning_rate',\n",
       " 'gradientboostingclassifier__loss',\n",
       " 'gradientboostingclassifier__max_depth',\n",
       " 'gradientboostingclassifier__max_features',\n",
       " 'gradientboostingclassifier__max_leaf_nodes',\n",
       " 'gradientboostingclassifier__min_impurity_decrease',\n",
       " 'gradientboostingclassifier__min_impurity_split',\n",
       " 'gradientboostingclassifier__min_samples_leaf',\n",
       " 'gradientboostingclassifier__min_samples_split',\n",
       " 'gradientboostingclassifier__min_weight_fraction_leaf',\n",
       " 'gradientboostingclassifier__n_estimators',\n",
       " 'gradientboostingclassifier__n_iter_no_change',\n",
       " 'gradientboostingclassifier__random_state',\n",
       " 'gradientboostingclassifier__subsample',\n",
       " 'gradientboostingclassifier__tol',\n",
       " 'gradientboostingclassifier__validation_fraction',\n",
       " 'gradientboostingclassifier__verbose',\n",
       " 'gradientboostingclassifier__warm_start']"
      ]
     },
     "execution_count": 42,
     "metadata": {},
     "output_type": "execute_result"
    }
   ],
   "source": [
    "[k for k in gb_fs_pipe.get_params().keys() if 'grad' in k]"
   ]
  },
  {
   "cell_type": "code",
   "execution_count": 43,
   "id": "0bc66b5d",
   "metadata": {},
   "outputs": [],
   "source": [
    "param_grid = {\n",
    "    \"gradientboostingclassifier__max_depth\": [3, 5],\n",
    "    \"gradientboostingclassifier__n_estimators\": [50, 100]\n",
    "}"
   ]
  },
  {
   "cell_type": "code",
   "execution_count": 44,
   "id": "8fb3e039",
   "metadata": {},
   "outputs": [
    {
     "name": "stdout",
     "output_type": "stream",
     "text": [
      "Best f1 score: 0.88\n",
      "\n",
      "Best parameters set found on development set:\n",
      "\n",
      "{'gradientboostingclassifier__max_depth': 5, 'gradientboostingclassifier__n_estimators': 100}\n",
      "\n",
      "Grid scores on development set:\n",
      "\n",
      "0.869 (+/-0.015) for {'gradientboostingclassifier__max_depth': 3, 'gradientboostingclassifier__n_estimators': 50}\n",
      "0.873 (+/-0.018) for {'gradientboostingclassifier__max_depth': 3, 'gradientboostingclassifier__n_estimators': 100}\n",
      "0.876 (+/-0.012) for {'gradientboostingclassifier__max_depth': 5, 'gradientboostingclassifier__n_estimators': 50}\n",
      "0.877 (+/-0.011) for {'gradientboostingclassifier__max_depth': 5, 'gradientboostingclassifier__n_estimators': 100}\n",
      "\n"
     ]
    }
   ],
   "source": [
    "gb_fs_gsc = run_grid_search(gb_fs_pipe, X_train, Y_train, param_grid, kfold_cv)"
   ]
  },
  {
   "cell_type": "markdown",
   "id": "5253f676",
   "metadata": {},
   "source": [
    "### Сравнение моделей"
   ]
  },
  {
   "cell_type": "code",
   "execution_count": 45,
   "id": "27347ac6",
   "metadata": {},
   "outputs": [],
   "source": [
    "import itertools\n",
    "from sklearn.metrics import confusion_matrix\n",
    "\n",
    "def plot_confusion_matrix(cm, classes,\n",
    "                          model_name=\"\",\n",
    "                          normalize=False,\n",
    "                          cmap=plt.cm.Blues):\n",
    "    \"\"\"\n",
    "    This function prints and plots the confusion matrix.\n",
    "    Normalization can be applied by setting `normalize=True`.\n",
    "    \"\"\"\n",
    "    if normalize:\n",
    "        cm = cm.astype('float') / cm.sum(axis=1)[:, np.newaxis]\n",
    "        print(\"Normalized confusion matrix\")\n",
    "    else:\n",
    "        print('Confusion matrix, without normalization')\n",
    "\n",
    "    print(cm)\n",
    "\n",
    "    plt.imshow(cm, interpolation='nearest',  cmap=cmap)\n",
    "    \n",
    "    plt.grid(False)\n",
    "    plt.title('%s: confusion matrix' % model_name)\n",
    "    tick_marks = np.arange(len(classes))\n",
    "    plt.xticks(tick_marks, classes, rotation=45)\n",
    "    plt.yticks(tick_marks, classes)\n",
    "\n",
    "    fmt = '.2f' if normalize else 'd'\n",
    "    thresh = cm.max() / 2.\n",
    "    for i, j in itertools.product(range(cm.shape[0]), range(cm.shape[1])):\n",
    "        plt.text(j, i, format(cm[i, j], fmt),\n",
    "                 horizontalalignment=\"center\",\n",
    "                 color=\"white\" if cm[i, j] > thresh else \"black\")\n",
    "\n",
    "    plt.ylabel('True label')\n",
    "    plt.xlabel('Predicted label')\n",
    "    plt.tight_layout()"
   ]
  },
  {
   "cell_type": "code",
   "execution_count": 46,
   "id": "3a86f3ae",
   "metadata": {},
   "outputs": [],
   "source": [
    "lg_model = lg_gsc.best_estimator_\n",
    "lg_model.fit(X_train, Y_train)\n",
    "y_test_lg = lg_model.predict_proba(X_train)[:,1]"
   ]
  },
  {
   "cell_type": "code",
   "execution_count": 47,
   "id": "7af53dc0",
   "metadata": {},
   "outputs": [
    {
     "name": "stdout",
     "output_type": "stream",
     "text": [
      "Логистическая регрессия\n",
      "              precision    recall  f1-score   support\n",
      "\n",
      "           0       0.87      0.88      0.87      2642\n",
      "           1       0.88      0.86      0.87      2642\n",
      "\n",
      "    accuracy                           0.87      5284\n",
      "   macro avg       0.87      0.87      0.87      5284\n",
      "weighted avg       0.87      0.87      0.87      5284\n",
      "\n"
     ]
    }
   ],
   "source": [
    "print('Логистическая регрессия')\n",
    "print(classification_report(Y_train, y_test_lg > 0.5))"
   ]
  },
  {
   "cell_type": "code",
   "execution_count": 48,
   "id": "8ceb4dfd",
   "metadata": {},
   "outputs": [
    {
     "name": "stdout",
     "output_type": "stream",
     "text": [
      "Confusion matrix, without normalization\n",
      "[[2321  321]\n",
      " [ 361 2281]]\n"
     ]
    },
    {
     "data": {
      "image/png": "[encoded data removed]",
      "text/plain": [
       "<Figure size 432x288 with 1 Axes>"
      ]
     },
     "metadata": {},
     "output_type": "display_data"
    }
   ],
   "source": [
    "cm = confusion_matrix(Y_train, y_test_lg > 0.5)\n",
    "plot_confusion_matrix(cm, classes=[\"0\", \"1\"], model_name=\"Логистическая регрессия\");"
   ]
  },
  {
   "cell_type": "code",
   "execution_count": 49,
   "id": "fa7d3b9c",
   "metadata": {},
   "outputs": [],
   "source": [
    "gb_model = gb_fs_gsc.best_estimator_\n",
    "gb_model.fit(X_train, Y_train)\n",
    "y_test_gb = gb_model.predict_proba(X_train)[:,1]"
   ]
  },
  {
   "cell_type": "code",
   "execution_count": 50,
   "id": "cd63af5b",
   "metadata": {},
   "outputs": [
    {
     "name": "stdout",
     "output_type": "stream",
     "text": [
      "Градиентный бустинг\n",
      "              precision    recall  f1-score   support\n",
      "\n",
      "           0       0.91      0.93      0.92      2642\n",
      "           1       0.93      0.91      0.92      2642\n",
      "\n",
      "    accuracy                           0.92      5284\n",
      "   macro avg       0.92      0.92      0.92      5284\n",
      "weighted avg       0.92      0.92      0.92      5284\n",
      "\n"
     ]
    }
   ],
   "source": [
    "print('Градиентный бустинг')\n",
    "print(classification_report(Y_train, y_test_gb > 0.5))"
   ]
  },
  {
   "cell_type": "code",
   "execution_count": 51,
   "id": "b5ad1910",
   "metadata": {},
   "outputs": [
    {
     "name": "stdout",
     "output_type": "stream",
     "text": [
      "Confusion matrix, without normalization\n",
      "[[2456  186]\n",
      " [ 243 2399]]\n"
     ]
    },
    {
     "data": {
      "image/png": "[encoded data removed]",
      "text/plain": [
       "<Figure size 432x288 with 1 Axes>"
      ]
     },
     "metadata": {},
     "output_type": "display_data"
    }
   ],
   "source": [
    "cm = confusion_matrix(Y_train, y_test_gb > 0.5)\n",
    "plot_confusion_matrix(cm, classes=[\"0\", \"1\"], model_name=\"Градиентный бустинг\");"
   ]
  },
  {
   "cell_type": "markdown",
   "id": "8afc57e3",
   "metadata": {},
   "source": [
    "### Лучшая модель"
   ]
  },
  {
   "cell_type": "markdown",
   "id": "5291d46c",
   "metadata": {},
   "source": [
    "#### Выбрана модель градиентного бустинга, т.к. у неё true negativ true positiv лучше, чем у логистической регрессии"
   ]
  },
  {
   "cell_type": "code",
   "execution_count": 52,
   "id": "8423a84b",
   "metadata": {},
   "outputs": [],
   "source": [
    "#final_model = gb_fs_gsc.best_estimator_\n",
    "#final_model.fit(X_train, Y_train)"
   ]
  },
  {
   "cell_type": "code",
   "execution_count": 53,
   "id": "55c31b0e",
   "metadata": {},
   "outputs": [],
   "source": [
    "final_model = gb_model\n",
    "y_test_preds = final_model.predict_proba(X_test)[:,1]"
   ]
  },
  {
   "cell_type": "code",
   "execution_count": 54,
   "id": "bd44b42e",
   "metadata": {},
   "outputs": [],
   "source": [
    "y_test_preds[y_test_preds >= 0.5] = 1\n",
    "y_test_preds[y_test_preds < 0.5] = 0"
   ]
  },
  {
   "cell_type": "markdown",
   "id": "f3577c98",
   "metadata": {},
   "source": [
    "### Сохранение модели"
   ]
  },
  {
   "cell_type": "code",
   "execution_count": 55,
   "id": "504922bd",
   "metadata": {},
   "outputs": [],
   "source": [
    "with open(MODEL_FILE_PATH, 'wb') as f:\n",
    "    pickle.dump(final_model, f)"
   ]
  },
  {
   "cell_type": "code",
   "execution_count": 56,
   "id": "bad4169b",
   "metadata": {},
   "outputs": [],
   "source": [
    "with open(\"model_RF.dill\", \"wb\") as f:\n",
    "    dill.dump(final_model, f)"
   ]
  },
  {
   "cell_type": "markdown",
   "id": "4e49898d",
   "metadata": {},
   "source": [
    "### Сохранение прогнозов"
   ]
  },
  {
   "cell_type": "code",
   "execution_count": 57,
   "id": "6e18afdc",
   "metadata": {},
   "outputs": [
    {
     "data": {
      "text/html": [
       "<div>\n",
       "<style scoped>\n",
       "    .dataframe tbody tr th:only-of-type {\n",
       "        vertical-align: middle;\n",
       "    }\n",
       "\n",
       "    .dataframe tbody tr th {\n",
       "        vertical-align: top;\n",
       "    }\n",
       "\n",
       "    .dataframe thead th {\n",
       "        text-align: right;\n",
       "    }\n",
       "</style>\n",
       "<table border=\"1\" class=\"dataframe\">\n",
       "  <thead>\n",
       "    <tr style=\"text-align: right;\">\n",
       "      <th></th>\n",
       "      <th>id</th>\n",
       "      <th>vas_id</th>\n",
       "      <th>target</th>\n",
       "    </tr>\n",
       "  </thead>\n",
       "  <tbody>\n",
       "    <tr>\n",
       "      <th>0</th>\n",
       "      <td>3504271</td>\n",
       "      <td>5</td>\n",
       "      <td>0.0</td>\n",
       "    </tr>\n",
       "    <tr>\n",
       "      <th>1</th>\n",
       "      <td>2543272</td>\n",
       "      <td>2</td>\n",
       "      <td>0.0</td>\n",
       "    </tr>\n",
       "    <tr>\n",
       "      <th>2</th>\n",
       "      <td>4066976</td>\n",
       "      <td>2</td>\n",
       "      <td>0.0</td>\n",
       "    </tr>\n",
       "    <tr>\n",
       "      <th>0</th>\n",
       "      <td>3456715</td>\n",
       "      <td>2</td>\n",
       "      <td>0.0</td>\n",
       "    </tr>\n",
       "    <tr>\n",
       "      <th>1</th>\n",
       "      <td>3987315</td>\n",
       "      <td>5</td>\n",
       "      <td>0.0</td>\n",
       "    </tr>\n",
       "  </tbody>\n",
       "</table>\n",
       "</div>"
      ],
      "text/plain": [
       "        id  vas_id  target\n",
       "0  3504271       5     0.0\n",
       "1  2543272       2     0.0\n",
       "2  4066976       2     0.0\n",
       "0  3456715       2     0.0\n",
       "1  3987315       5     0.0"
      ]
     },
     "execution_count": 57,
     "metadata": {},
     "output_type": "execute_result"
    }
   ],
   "source": [
    "df_y_pred = pd.DataFrame({'id' : X_test['id'], 'vas_id': X_test['vas_id'], 'target' : y_test_preds})\n",
    "df_y_pred.to_csv(path_pred, index=False, encoding='utf-8')\n",
    "df_y_pred.head()"
   ]
  }
 ],
 "metadata": {
  "kernelspec": {
   "display_name": "Python 3",
   "language": "python",
   "name": "python3"
  },
  "language_info": {
   "codemirror_mode": {
    "name": "ipython",
    "version": 3
   },
   "file_extension": ".py",
   "mimetype": "text/x-python",
   "name": "python",
   "nbconvert_exporter": "python",
   "pygments_lexer": "ipython3",
   "version": "3.8.8"
  }
 },
 "nbformat": 4,
 "nbformat_minor": 5
}
